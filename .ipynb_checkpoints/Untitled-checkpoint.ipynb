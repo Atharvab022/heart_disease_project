{
 "cells": [
  {
   "cell_type": "markdown",
   "id": "a6d928dc-b5d0-4ab7-a7af-32ba124d43e0",
   "metadata": {},
   "source": [
    "# Predicting Heart Disease using learning\n",
    "1. Problem Definition\n",
    "2. Data\n",
    "3. Evaluation\n",
    "4. Features\n",
    "5. Modelling\n",
    "6. Experimentation\n",
    "   ## 1.Problem Definition\n"
   ]
  },
  {
   "cell_type": "code",
   "execution_count": null,
   "id": "9a06e3dc-69ac-4195-a438-3fec32de0101",
   "metadata": {},
   "outputs": [],
   "source": [
    "import numpy as np\n",
    "import pandas as pd"
   ]
  },
  {
   "cell_type": "code",
   "execution_count": null,
   "id": "f230f919-8690-45b1-b352-bbfcc93a9c62",
   "metadata": {},
   "outputs": [],
   "source": [
    "#Load the data\n",
    "hea=pd.read_csv('heart-disease.csv')"
   ]
  },
  {
   "cell_type": "code",
   "execution_count": null,
   "id": "0fcc6ac8-7a3b-41ae-b4e8-bb5304c8de8a",
   "metadata": {},
   "outputs": [],
   "source": [
    "hea.head()"
   ]
  },
  {
   "cell_type": "code",
   "execution_count": null,
   "id": "6126ac90-2cab-4d59-87d5-b53c908f14bb",
   "metadata": {},
   "outputs": [],
   "source": [
    "hea.info()"
   ]
  },
  {
   "cell_type": "code",
   "execution_count": null,
   "id": "123dd898-41da-48ff-a531-64ed24b0b369",
   "metadata": {},
   "outputs": [],
   "source": [
    "hea.isnull().sum()"
   ]
  },
  {
   "cell_type": "markdown",
   "id": "1c2ac0ae-35b4-435e-a8e6-540ee7c91137",
   "metadata": {},
   "source": [
    "## Preparing the tools \n",
    "\n",
    "we're going to use pandas and numpy "
   ]
  },
  {
   "cell_type": "code",
   "execution_count": null,
   "id": "0911eb17-96d1-457e-b214-c9b0ad07ca1c",
   "metadata": {},
   "outputs": [],
   "source": [
    "#Import the tools we need\n",
    "\n",
    "#regular EDA librariers\n",
    "import numpy as np\n",
    "import pandas as pd\n",
    "import matplotlib.pyplot as plt\n",
    "import seaborn as sns\n",
    "%matplotlib inline\n",
    "#Models from sklearn \n",
    "from sklearn.linear_model import LogisticRegression\n",
    "from sklearn.neighbors import KNeighborsClassifier\n",
    "from sklearn.ensemble import RandomForestClassifier\n",
    "\n",
    "#Model Evaluation\n",
    "from sklearn.model_selection import train_test_split,cross_val_score\n",
    "from sklearn.model_selection import RandomizedSearchCV,GridSearchCV\n",
    "from sklearn.metrics import confusion_matrix,classification_report\n",
    "from sklearn.metrics import precision_score,recall_score,f1_score\n",
    "from sklearn.metrics import RocCurveDisplay"
   ]
  },
  {
   "cell_type": "code",
   "execution_count": null,
   "id": "241db531-6aa9-4627-ad90-cb27c88707ae",
   "metadata": {},
   "outputs": [],
   "source": [
    "hea.shape #(rows,col)"
   ]
  },
  {
   "cell_type": "markdown",
   "id": "491096c2-c1bc-4a36-96b1-853f5965e455",
   "metadata": {},
   "source": [
    "## Data Exploration EDA\n",
    "\n",
    "The goal is to find out more about data and become a subject matter export on the dataset you're working with1\n",
    "1. What Questions are you trying to solve\n",
    "2. What kind of data you have and how do you treat diff types?\n",
    "3. Whats missing from the data and how to deal eith them\n",
    "4. Where are the outliers and why should you care about them?\n",
    "5. How can you add change or remove features to get more out of your data?\n"
   ]
  },
  {
   "cell_type": "code",
   "execution_count": null,
   "id": "b1cbb8cd-7fdf-4346-aa02-3147e2d94196",
   "metadata": {},
   "outputs": [],
   "source": [
    "hea['target'].value_counts()"
   ]
  },
  {
   "cell_type": "code",
   "execution_count": null,
   "id": "ac5e13fd-2ca4-4a11-a3e4-ac1f8ef9d389",
   "metadata": {},
   "outputs": [],
   "source": [
    "hea['target'].value_counts().plot(kind='bar',color=['red','lightblue'])"
   ]
  },
  {
   "cell_type": "code",
   "execution_count": null,
   "id": "0092e315-5c78-4fab-8a75-2bfa568ffd9d",
   "metadata": {},
   "outputs": [],
   "source": [
    "hea.describe()"
   ]
  },
  {
   "cell_type": "markdown",
   "id": "fcf985be-3950-43ba-b31b-0fd4d17cbe72",
   "metadata": {},
   "source": [
    "### Heart Disease Frequency according to Sex"
   ]
  },
  {
   "cell_type": "code",
   "execution_count": null,
   "id": "65e72e43-6220-40a4-9331-28ba9775af37",
   "metadata": {},
   "outputs": [],
   "source": [
    "hea.sex.value_counts()"
   ]
  },
  {
   "cell_type": "code",
   "execution_count": null,
   "id": "7e85213b-06ee-421c-b0a5-83b843bf81c2",
   "metadata": {},
   "outputs": [],
   "source": [
    "#Compare target column with sex column\n",
    "pd.crosstab(hea.target,hea.sex).plot(kind='bar')\n",
    "plt.title('Heart Disease Frequency according to Sex')\n",
    "plt.xlabel('0 = No Disease , 1 = Disease')\n",
    "plt.ylabel('Amount')\n",
    "plt.legend(['Female','Male'])\n",
    "plt.xticks(rotation=0)\n",
    "plt.show()"
   ]
  },
  {
   "cell_type": "markdown",
   "id": "a3e80a97-b452-453f-8ae8-b61634e4a85a",
   "metadata": {},
   "source": [
    "### Age vs Max Heart Rate for Heart Disease"
   ]
  },
  {
   "cell_type": "code",
   "execution_count": null,
   "id": "09e75a66-e53e-453b-a6e1-d32d61b430e7",
   "metadata": {},
   "outputs": [],
   "source": [
    "#Create another figure\n",
    "plt.scatter(hea.age[hea.target==1],\n",
    "            hea.thalach[hea.target==1],color='red')\n",
    "plt.scatter(hea.age[hea.target==0],\n",
    "            hea.thalach[hea.target==0],color='blue')\n",
    "plt.xlabel('Age')\n",
    "plt.ylabel('Max Heart rate')\n",
    "plt.title('Age v Max Heart rate')\n",
    "plt.legend(['Have heart Disease','No heart disease'])"
   ]
  },
  {
   "cell_type": "code",
   "execution_count": null,
   "id": "cccb4a85-ae5a-47ec-ba75-38b68c3e99ef",
   "metadata": {},
   "outputs": [],
   "source": [
    "# Check the distribution of the age column with a histogram\n",
    "hea.age.plot.hist()"
   ]
  },
  {
   "cell_type": "markdown",
   "id": "78654af7-1f37-453b-bdcc-f17cac263833",
   "metadata": {},
   "source": [
    "### Heart Disease Frequency per Chest pain type"
   ]
  },
  {
   "cell_type": "code",
   "execution_count": null,
   "id": "10f2a221-717b-4d10-baa2-b6c32f58fded",
   "metadata": {},
   "outputs": [],
   "source": [
    "pd.crosstab(hea.cp,hea.target)"
   ]
  },
  {
   "cell_type": "code",
   "execution_count": null,
   "id": "a86f843d-bfbb-423c-b02c-b6e5b8820386",
   "metadata": {},
   "outputs": [],
   "source": [
    "# Make it visualise\n",
    "pd.crosstab(hea.cp,hea.target).plot(kind='bar')"
   ]
  },
  {
   "cell_type": "code",
   "execution_count": null,
   "id": "d8a974d2-ff70-4f82-b696-58d1a10b6364",
   "metadata": {},
   "outputs": [],
   "source": [
    "# make a coorelational matrix\n",
    "hea.corr()\n"
   ]
  },
  {
   "cell_type": "code",
   "execution_count": null,
   "id": "4d6f6060-64ac-430f-ab80-caed63f4f67a",
   "metadata": {},
   "outputs": [],
   "source": [
    "#lets make our correlational matrrix a little prettier"
   ]
  },
  {
   "cell_type": "code",
   "execution_count": null,
   "id": "edeeca10-3f75-43cb-b3ec-9b2f64f62773",
   "metadata": {},
   "outputs": [],
   "source": [
    "corr_matrix=hea.corr()\n",
    "fig,ax=plt.subplots(figsize=(15,10))\n",
    "ax=sns.heatmap(corr_matrix,annot=True,\n",
    "              linewidths=0.5,\n",
    "              fmt=\".2f\")\n"
   ]
  },
  {
   "cell_type": "markdown",
   "id": "80d1bac7-fa41-4cd9-84a4-e2d758564446",
   "metadata": {},
   "source": [
    "## Modelling"
   ]
  },
  {
   "cell_type": "code",
   "execution_count": null,
   "id": "ed418918-91bf-4d8a-90a1-94b617f7de04",
   "metadata": {},
   "outputs": [],
   "source": [
    "hea.head()"
   ]
  },
  {
   "cell_type": "code",
   "execution_count": null,
   "id": "0fc94af5-e1a8-46bb-969b-e3814a92db67",
   "metadata": {},
   "outputs": [],
   "source": [
    "# Spliting the data\n",
    "x=hea.drop('target' ,axis=1)\n",
    "y=hea['target']"
   ]
  },
  {
   "cell_type": "code",
   "execution_count": null,
   "id": "00adf422-8b5c-43da-941c-96d0c675961f",
   "metadata": {},
   "outputs": [],
   "source": [
    "\n",
    "x_train,x_test,y_train,y_test=train_test_split(x,y,test_size=0.2)"
   ]
  },
  {
   "cell_type": "code",
   "execution_count": null,
   "id": "d20936df-d6d2-4711-a701-953c95c396ac",
   "metadata": {},
   "outputs": [],
   "source": [
    "x_train.head()"
   ]
  },
  {
   "cell_type": "code",
   "execution_count": null,
   "id": "cf34a2cc-2293-4b87-b8e8-bb015d7ecd24",
   "metadata": {},
   "outputs": [],
   "source": [
    "models={'Logistic Regression':LogisticRegression(),\n",
    "       'KNN':KNeighborsClassifier(),\n",
    "       'Random Forest': RandomForestClassifier()}\n",
    "# Create a function to fit and score models\n",
    "def fit_score_(models,x_train,y_train,x_test,y_test):\n",
    "    #set random seeds\n",
    "    np.random.seed(42)\n",
    "    model_score={}\n",
    "    for name,model in models.items():\n",
    "        #fit the model to the data\n",
    "        model.fit(x_train,y_train)\n",
    "        model_score[name]=model.score(x_test,y_test)\n",
    "    return model_score\n",
    "x=fit_score_(models,x_train,y_train,x_test,y_test)\n",
    "x"
   ]
  },
  {
   "cell_type": "markdown",
   "id": "edc896c0-9825-41fe-9f2e-d73c49c5543b",
   "metadata": {},
   "source": [
    "## Model Comparison"
   ]
  },
  {
   "cell_type": "code",
   "execution_count": null,
   "id": "e90e71f3-37e9-44ca-a9a7-217eafdf3150",
   "metadata": {},
   "outputs": [],
   "source": [
    "model_compare=pd.DataFrame(x,index=['accuracy'])\n",
    "model_compare.T.plot(kind='bar')"
   ]
  },
  {
   "cell_type": "markdown",
   "id": "9847bc5e-bf79-4f23-87bf-f01a919bbc23",
   "metadata": {},
   "source": [
    "* Hyperparameter tuning"
   ]
  },
  {
   "cell_type": "code",
   "execution_count": null,
   "id": "6aa9db82-9cba-41fd-a018-63cb1b1343c0",
   "metadata": {},
   "outputs": [],
   "source": [
    "# lets tune KNN\n",
    "train_scores=[]\n",
    "test_scores=[]\n",
    "\n",
    "#create a list of different values for N_neighbors\n",
    "neighbors=range(1,21)\n",
    "knn=KNeighborsClassifier()\n",
    "\n",
    "for i in neighbors:\n",
    "    knn.set_params(n_neighbors=i)\n",
    "\n",
    "    #fit \n",
    "    knn.fit(x_train,y_train)\n",
    "    test_scores.append(knn.score(x_test,y_test))\n",
    "    train_scores.append(knn.score(x_train,y_train))\n",
    "    "
   ]
  },
  {
   "cell_type": "code",
   "execution_count": null,
   "id": "bcbb6e1b-71cc-446f-8325-da330e6c815c",
   "metadata": {},
   "outputs": [],
   "source": [
    "max(test_scores)"
   ]
  },
  {
   "cell_type": "code",
   "execution_count": null,
   "id": "a2b4dbfd-295d-44e5-b629-cbe46f253160",
   "metadata": {},
   "outputs": [],
   "source": [
    "train_scores"
   ]
  },
  {
   "cell_type": "markdown",
   "id": "a3db98a9-1023-43c1-b9f6-cd4475218e02",
   "metadata": {},
   "source": [
    "## Hyperparameter tuning"
   ]
  },
  {
   "cell_type": "code",
   "execution_count": null,
   "id": "5587e972-1882-43f3-ada5-a4014e312452",
   "metadata": {},
   "outputs": [],
   "source": [
    "# with RandomizedSearchCV\n",
    "log_reg_grid={\"C\":np.logspace(-4,4,20),\n",
    "             \"solver\":[\"liblinear\"]}\n",
    "#Create a hyperparameter grid for RandomForestClassifier\n",
    "rf_grid={\"n_estimators\":np.arange(10,1000,50),\n",
    "        \"max_depth\":[None ,3,5,10],\n",
    "        \"min_samples_split\":np.arange(2,20,2),\n",
    "         \"min_samples_leaf\":np.arange(1,20,2)}"
   ]
  },
  {
   "cell_type": "markdown",
   "id": "fb0b4269-d382-49ea-95f8-59336c7bd905",
   "metadata": {},
   "source": [
    "RandomSearchcv"
   ]
  },
  {
   "cell_type": "code",
   "execution_count": null,
   "id": "3a0a388b-31d9-4e4b-97ad-f28707c5964b",
   "metadata": {},
   "outputs": [],
   "source": [
    "#Logistic regerrion\n",
    "\n",
    "np.random.seed(42)\n",
    "\n",
    "#Setup random hyperparameter search for logisticRegression\n",
    "rs_log_reg=RandomizedSearchCV(LogisticRegression(),param_distributions=log_reg_grid,\n",
    "                             cv=5,\n",
    "                             n_iter=20,verbose=True)\n",
    "\n",
    "#fit\n",
    "rs_log_reg.fit(x_train, y_train)"
   ]
  },
  {
   "cell_type": "code",
   "execution_count": null,
   "id": "99ab2558-8889-46db-8ae4-06590a19fb99",
   "metadata": {},
   "outputs": [],
   "source": [
    "rs_log_reg.best_params_"
   ]
  },
  {
   "cell_type": "code",
   "execution_count": null,
   "id": "e7495897-7829-4eca-8af8-da12bd5d1ac2",
   "metadata": {},
   "outputs": [],
   "source": [
    "rs_log_reg.score(x_test,y_test)"
   ]
  },
  {
   "cell_type": "code",
   "execution_count": null,
   "id": "1c684918-5ae0-4968-9768-4ae3763f6c19",
   "metadata": {},
   "outputs": [],
   "source": [
    "rf=RandomizedSearchCV(RandomForestClassifier(),param_distributions=rf_grid,cv=5,n_iter=20,verbose=True)\n",
    "rf.fit(x_train,y_train)"
   ]
  },
  {
   "cell_type": "code",
   "execution_count": null,
   "id": "a3fc735a-4f5a-47df-91a7-47047c8c96f8",
   "metadata": {},
   "outputs": [],
   "source": [
    "rf.best_params_"
   ]
  },
  {
   "cell_type": "code",
   "execution_count": null,
   "id": "5af0d520-39ff-459b-adc8-0e80d0b3fff7",
   "metadata": {},
   "outputs": [],
   "source": [
    "rf.score(x_test,y_test)"
   ]
  },
  {
   "cell_type": "code",
   "execution_count": null,
   "id": "81d62ba8-40d7-49b0-b224-680f5e86d346",
   "metadata": {},
   "outputs": [],
   "source": []
  }
 ],
 "metadata": {
  "kernelspec": {
   "display_name": "Python 3 (ipykernel)",
   "language": "python",
   "name": "python3"
  },
  "language_info": {
   "codemirror_mode": {
    "name": "ipython",
    "version": 3
   },
   "file_extension": ".py",
   "mimetype": "text/x-python",
   "name": "python",
   "nbconvert_exporter": "python",
   "pygments_lexer": "ipython3",
   "version": "3.12.7"
  }
 },
 "nbformat": 4,
 "nbformat_minor": 5
}
